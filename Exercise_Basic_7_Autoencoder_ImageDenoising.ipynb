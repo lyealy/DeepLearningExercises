{
 "cells": [
  {
   "cell_type": "markdown",
   "metadata": {},
   "source": [
    "# Autoencoder = Encoder + Decoder\n",
    "[Reference](https://blog.keras.io/building-autoencoders-in-keras.html)\n",
    "**Remark**: \n",
    "1. This kind of autoencoder is trained based on a particular data set. It only works well on a data set which has a similar distribution with the training data.\n",
    "2. It is a lossy compression technique.\n",
    "3. Autoencoder is more useful in signal denoising and dimensional reduction visualisation than in data compression.\n",
    "![Autoencoder](https://blog.keras.io/img/ae/autoencoder_schema.jpg)\n",
    "Let's first build a very simple autoencoder with mnist dataset. \n",
    "(other tasks including autoencoder denoising, inpainting please refer to https://github.com/jajatikr/Video-Inpainting)"
   ]
  },
  {
   "cell_type": "code",
   "execution_count": 21,
   "metadata": {},
   "outputs": [],
   "source": [
    "from keras.layers import Input, Dense\n",
    "from keras.models import Model\n",
    "\n",
    "# define the dimension of the compressed representation\n",
    "compressed_dim = 36 \n",
    "\n",
    "# mnist image shape is 28x28 = 784\n",
    "img_input = Input(shape=(784,))\n",
    "\n",
    "# first layer contains the compressed representation\n",
    "compressed_rep = Dense(compressed_dim, activation='relu')(img_input)\n",
    "\n",
    "# reconstructed image\n",
    "img_rec = Dense(784, activation='sigmoid')(compressed_rep)\n",
    "\n",
    "\n",
    "\n",
    "# build the whole autoencoder model. \n",
    "# we need to train this model only.\n",
    "autoencoder= Model(img_input, img_rec)\n",
    "\n",
    "# build the encoder model\n",
    "encoder = Model(img_input,compressed_rep)\n",
    "\n",
    "# build the decoder model\n",
    "# define the compressed input\n",
    "compressed_input = Input(shape=(compressed_dim,))\n",
    "# build the decoder based on the last layer of autoencoder\n",
    "decoder_layer = autoencoder.layers[-1](compressed_input)\n",
    "decoder = Model(compressed_input,decoder_layer)"
   ]
  },
  {
   "cell_type": "markdown",
   "metadata": {},
   "source": [
    "Show the model structure."
   ]
  },
  {
   "cell_type": "code",
   "execution_count": 7,
   "metadata": {},
   "outputs": [
    {
     "name": "stdout",
     "output_type": "stream",
     "text": [
      "_________________________________________________________________\n",
      "Layer (type)                 Output Shape              Param #   \n",
      "=================================================================\n",
      "input_3 (InputLayer)         (None, 784)               0         \n",
      "_________________________________________________________________\n",
      "dense_5 (Dense)              (None, 36)                28260     \n",
      "_________________________________________________________________\n",
      "dense_6 (Dense)              (None, 784)               29008     \n",
      "=================================================================\n",
      "Total params: 57,268\n",
      "Trainable params: 57,268\n",
      "Non-trainable params: 0\n",
      "_________________________________________________________________\n"
     ]
    }
   ],
   "source": [
    "autoencoder.compile(optimizer='adadelta',\n",
    "                    loss='binary_crossentropy',\n",
    "                    metrics=['accuracy'])\n",
    "\n",
    "autoencoder.summary()"
   ]
  },
  {
   "cell_type": "markdown",
   "metadata": {},
   "source": [
    "Load the training and test data."
   ]
  },
  {
   "cell_type": "code",
   "execution_count": 9,
   "metadata": {},
   "outputs": [
    {
     "name": "stdout",
     "output_type": "stream",
     "text": [
      "(60000, 784)\n",
      "(10000, 784)\n"
     ]
    }
   ],
   "source": [
    "from keras.datasets import mnist\n",
    "import numpy as np\n",
    "\n",
    "# we don't need labels\n",
    "(x_train, _), (x_test, _) = mnist.load_data()\n",
    "\n",
    "# normalize the input values\n",
    "x_train = x_train.astype('float32') / 255.\n",
    "x_test = x_test.astype('float32') / 255.\n",
    "\n",
    "x_train = x_train.reshape((len(x_train), np.prod(x_train.shape[1:])))\n",
    "x_test = x_test.reshape((len(x_test), np.prod(x_test.shape[1:])))\n",
    "\n",
    "print(x_train.shape)\n",
    "print(x_test.shape)"
   ]
  },
  {
   "cell_type": "markdown",
   "metadata": {},
   "source": [
    "Train the model."
   ]
  },
  {
   "cell_type": "code",
   "execution_count": 10,
   "metadata": {},
   "outputs": [
    {
     "name": "stdout",
     "output_type": "stream",
     "text": [
      "Train on 60000 samples, validate on 10000 samples\n",
      "Epoch 1/50\n",
      "60000/60000 [==============================] - 1s 18us/step - loss: 0.4492 - acc: 0.7023 - val_loss: 0.2824 - val_acc: 0.7952\n",
      "Epoch 2/50\n",
      "60000/60000 [==============================] - 0s 7us/step - loss: 0.2765 - acc: 0.7960 - val_loss: 0.2710 - val_acc: 0.7956\n",
      "Epoch 3/50\n",
      "60000/60000 [==============================] - 0s 7us/step - loss: 0.2680 - acc: 0.7967 - val_loss: 0.2629 - val_acc: 0.7954\n",
      "Epoch 4/50\n",
      "60000/60000 [==============================] - 0s 7us/step - loss: 0.2585 - acc: 0.7966 - val_loss: 0.2518 - val_acc: 0.7954\n",
      "Epoch 5/50\n",
      "60000/60000 [==============================] - 0s 7us/step - loss: 0.2474 - acc: 0.7960 - val_loss: 0.2407 - val_acc: 0.7947\n",
      "Epoch 6/50\n",
      "60000/60000 [==============================] - 0s 7us/step - loss: 0.2370 - acc: 0.7958 - val_loss: 0.2308 - val_acc: 0.7952\n",
      "Epoch 7/50\n",
      "60000/60000 [==============================] - 0s 7us/step - loss: 0.2275 - acc: 0.7962 - val_loss: 0.2215 - val_acc: 0.7963\n",
      "Epoch 8/50\n",
      "60000/60000 [==============================] - 0s 7us/step - loss: 0.2186 - acc: 0.7969 - val_loss: 0.2131 - val_acc: 0.7968\n",
      "Epoch 9/50\n",
      "60000/60000 [==============================] - 0s 7us/step - loss: 0.2110 - acc: 0.7975 - val_loss: 0.2063 - val_acc: 0.7976\n",
      "Epoch 10/50\n",
      "60000/60000 [==============================] - 0s 7us/step - loss: 0.2048 - acc: 0.7982 - val_loss: 0.2007 - val_acc: 0.7982\n",
      "Epoch 11/50\n",
      "60000/60000 [==============================] - 0s 7us/step - loss: 0.1996 - acc: 0.7987 - val_loss: 0.1959 - val_acc: 0.7987\n",
      "Epoch 12/50\n",
      "60000/60000 [==============================] - 0s 7us/step - loss: 0.1951 - acc: 0.7993 - val_loss: 0.1917 - val_acc: 0.7992\n",
      "Epoch 13/50\n",
      "60000/60000 [==============================] - 0s 7us/step - loss: 0.1911 - acc: 0.7999 - val_loss: 0.1878 - val_acc: 0.7996\n",
      "Epoch 14/50\n",
      "60000/60000 [==============================] - 0s 7us/step - loss: 0.1874 - acc: 0.8005 - val_loss: 0.1844 - val_acc: 0.8003\n",
      "Epoch 15/50\n",
      "60000/60000 [==============================] - 0s 7us/step - loss: 0.1840 - acc: 0.8011 - val_loss: 0.1811 - val_acc: 0.8013\n",
      "Epoch 16/50\n",
      "60000/60000 [==============================] - 0s 7us/step - loss: 0.1807 - acc: 0.8018 - val_loss: 0.1779 - val_acc: 0.8017\n",
      "Epoch 17/50\n",
      "60000/60000 [==============================] - 0s 7us/step - loss: 0.1776 - acc: 0.8024 - val_loss: 0.1749 - val_acc: 0.8025\n",
      "Epoch 18/50\n",
      "60000/60000 [==============================] - 0s 7us/step - loss: 0.1746 - acc: 0.8030 - val_loss: 0.1721 - val_acc: 0.8032\n",
      "Epoch 19/50\n",
      "60000/60000 [==============================] - 0s 7us/step - loss: 0.1718 - acc: 0.8036 - val_loss: 0.1692 - val_acc: 0.8033\n",
      "Epoch 20/50\n",
      "60000/60000 [==============================] - 0s 7us/step - loss: 0.1692 - acc: 0.8041 - val_loss: 0.1667 - val_acc: 0.8041\n",
      "Epoch 21/50\n",
      "60000/60000 [==============================] - 0s 7us/step - loss: 0.1666 - acc: 0.8046 - val_loss: 0.1642 - val_acc: 0.8044\n",
      "Epoch 22/50\n",
      "60000/60000 [==============================] - 0s 7us/step - loss: 0.1642 - acc: 0.8050 - val_loss: 0.1619 - val_acc: 0.8049\n",
      "Epoch 23/50\n",
      "60000/60000 [==============================] - 0s 7us/step - loss: 0.1619 - acc: 0.8054 - val_loss: 0.1596 - val_acc: 0.8052\n",
      "Epoch 24/50\n",
      "60000/60000 [==============================] - 0s 7us/step - loss: 0.1597 - acc: 0.8058 - val_loss: 0.1574 - val_acc: 0.8056\n",
      "Epoch 25/50\n",
      "60000/60000 [==============================] - 0s 7us/step - loss: 0.1577 - acc: 0.8062 - val_loss: 0.1553 - val_acc: 0.8058\n",
      "Epoch 26/50\n",
      "60000/60000 [==============================] - 0s 7us/step - loss: 0.1557 - acc: 0.8065 - val_loss: 0.1536 - val_acc: 0.8064\n",
      "Epoch 27/50\n",
      "60000/60000 [==============================] - 0s 7us/step - loss: 0.1538 - acc: 0.8068 - val_loss: 0.1516 - val_acc: 0.8065\n",
      "Epoch 28/50\n",
      "60000/60000 [==============================] - 0s 7us/step - loss: 0.1520 - acc: 0.8071 - val_loss: 0.1497 - val_acc: 0.8066\n",
      "Epoch 29/50\n",
      "60000/60000 [==============================] - 0s 7us/step - loss: 0.1502 - acc: 0.8074 - val_loss: 0.1481 - val_acc: 0.8071\n",
      "Epoch 30/50\n",
      "60000/60000 [==============================] - 0s 7us/step - loss: 0.1486 - acc: 0.8076 - val_loss: 0.1464 - val_acc: 0.8072\n",
      "Epoch 31/50\n",
      "60000/60000 [==============================] - 0s 7us/step - loss: 0.1470 - acc: 0.8079 - val_loss: 0.1450 - val_acc: 0.8076\n",
      "Epoch 32/50\n",
      "60000/60000 [==============================] - 0s 7us/step - loss: 0.1455 - acc: 0.8081 - val_loss: 0.1433 - val_acc: 0.8074\n",
      "Epoch 33/50\n",
      "60000/60000 [==============================] - 0s 7us/step - loss: 0.1441 - acc: 0.8083 - val_loss: 0.1420 - val_acc: 0.8079\n",
      "Epoch 34/50\n",
      "60000/60000 [==============================] - 0s 7us/step - loss: 0.1427 - acc: 0.8085 - val_loss: 0.1405 - val_acc: 0.8077\n",
      "Epoch 35/50\n",
      "60000/60000 [==============================] - 0s 7us/step - loss: 0.1413 - acc: 0.8087 - val_loss: 0.1393 - val_acc: 0.8083\n",
      "Epoch 36/50\n",
      "60000/60000 [==============================] - 0s 7us/step - loss: 0.1400 - acc: 0.8089 - val_loss: 0.1380 - val_acc: 0.8084\n",
      "Epoch 37/50\n",
      "60000/60000 [==============================] - 0s 7us/step - loss: 0.1388 - acc: 0.8091 - val_loss: 0.1367 - val_acc: 0.8085\n",
      "Epoch 38/50\n",
      "60000/60000 [==============================] - 0s 7us/step - loss: 0.1376 - acc: 0.8093 - val_loss: 0.1356 - val_acc: 0.8089\n",
      "Epoch 39/50\n",
      "60000/60000 [==============================] - 0s 7us/step - loss: 0.1364 - acc: 0.8095 - val_loss: 0.1344 - val_acc: 0.8090\n",
      "Epoch 40/50\n",
      "60000/60000 [==============================] - 0s 7us/step - loss: 0.1352 - acc: 0.8097 - val_loss: 0.1332 - val_acc: 0.8091\n",
      "Epoch 41/50\n",
      "60000/60000 [==============================] - 0s 7us/step - loss: 0.1341 - acc: 0.8098 - val_loss: 0.1320 - val_acc: 0.8092\n",
      "Epoch 42/50\n",
      "60000/60000 [==============================] - 0s 7us/step - loss: 0.1329 - acc: 0.8100 - val_loss: 0.1309 - val_acc: 0.8094\n",
      "Epoch 43/50\n",
      "60000/60000 [==============================] - 0s 7us/step - loss: 0.1318 - acc: 0.8102 - val_loss: 0.1298 - val_acc: 0.8095\n",
      "Epoch 44/50\n",
      "60000/60000 [==============================] - 0s 7us/step - loss: 0.1308 - acc: 0.8103 - val_loss: 0.1288 - val_acc: 0.8098\n",
      "Epoch 45/50\n",
      "60000/60000 [==============================] - 0s 7us/step - loss: 0.1297 - acc: 0.8105 - val_loss: 0.1277 - val_acc: 0.8098\n",
      "Epoch 46/50\n",
      "60000/60000 [==============================] - 0s 7us/step - loss: 0.1287 - acc: 0.8106 - val_loss: 0.1266 - val_acc: 0.8099\n",
      "Epoch 47/50\n",
      "60000/60000 [==============================] - 0s 7us/step - loss: 0.1276 - acc: 0.8108 - val_loss: 0.1256 - val_acc: 0.8100\n",
      "Epoch 48/50\n",
      "60000/60000 [==============================] - 0s 7us/step - loss: 0.1266 - acc: 0.8109 - val_loss: 0.1246 - val_acc: 0.8101\n",
      "Epoch 49/50\n",
      "60000/60000 [==============================] - 0s 7us/step - loss: 0.1257 - acc: 0.8110 - val_loss: 0.1237 - val_acc: 0.8104\n",
      "Epoch 50/50\n",
      "60000/60000 [==============================] - 0s 7us/step - loss: 0.1247 - acc: 0.8112 - val_loss: 0.1227 - val_acc: 0.8104\n"
     ]
    },
    {
     "data": {
      "text/plain": [
       "<keras.callbacks.History at 0x7fec3b4cfe48>"
      ]
     },
     "execution_count": 10,
     "metadata": {},
     "output_type": "execute_result"
    }
   ],
   "source": [
    "autoencoder.fit(x_train, x_train,\n",
    "               epochs=50,\n",
    "               batch_size=512,\n",
    "               shuffle=True,\n",
    "               validation_data=(x_test, x_test))"
   ]
  },
  {
   "cell_type": "markdown",
   "metadata": {},
   "source": [
    "Once the autoencoder has been trained, we can directly apply encoder and decoder on the test data."
   ]
  },
  {
   "cell_type": "code",
   "execution_count": 11,
   "metadata": {},
   "outputs": [],
   "source": [
    "encoded_imgs = encoder.predict(x_test)\n",
    "decoded_imgs = decoder.predict(encoded_imgs)"
   ]
  },
  {
   "cell_type": "markdown",
   "metadata": {},
   "source": [
    "Data Visualization\n",
    "___\n",
    "Let's have a look at the performance of the encoder and the decoder."
   ]
  },
  {
   "cell_type": "code",
   "execution_count": 13,
   "metadata": {},
   "outputs": [
    {
     "data": {
      "image/png": "[encoded data removed]",
      "text/plain": [
       "<Figure size 1296x288 with 18 Axes>"
      ]
     },
     "metadata": {
      "needs_background": "light"
     },
     "output_type": "display_data"
    }
   ],
   "source": [
    "import matplotlib.pyplot as plt\n",
    "\n",
    "n = 9\n",
    "plt.figure(figsize=(18, 4))\n",
    "\n",
    "for i in range(n):\n",
    "    # the orignal images\n",
    "    ax = plt.subplot(2, n, i+1)\n",
    "    plt.imshow(x_test[i].reshape(28, 28))\n",
    "    plt.gray()\n",
    "    ax.get_xaxis().set_visible(False)\n",
    "    ax.get_yaxis().set_visible(False)\n",
    "    \n",
    "    # the reconstructed images\n",
    "    ax = plt.subplot(2, n, i+1+n)\n",
    "    plt.imshow(decoded_imgs[i].reshape(28, 28))\n",
    "    plt.gray()\n",
    "    ax.get_xaxis().set_visible(False)\n",
    "    ax.get_yaxis().set_visible(False)"
   ]
  },
  {
   "cell_type": "markdown",
   "metadata": {},
   "source": [
    "We lost information, and the quality of the reconstructed images are not quite well."
   ]
  },
  {
   "cell_type": "markdown",
   "metadata": {},
   "source": [
    "Now, let's build an autoencoder with Convnets. Due to their strong ability to handle images, we shall achieve a much better result."
   ]
  },
  {
   "cell_type": "code",
   "execution_count": 14,
   "metadata": {},
   "outputs": [],
   "source": [
    "from keras.layers import Input, Dense, Conv2D, MaxPooling2D, UpSampling2D\n",
    "from keras.models import Model\n",
    "from keras import backend as K\n",
    "\n",
    "input_img = Input(shape=(28, 28, 1))\n",
    "\n",
    "x = Conv2D(16, (3, 3), activation='relu', padding='same')(input_img)\n",
    "x = MaxPooling2D((2, 2), padding='same')(x)\n",
    "x = Conv2D(8, (3, 3), activation='relu', padding='same')(x)\n",
    "x = MaxPooling2D((2, 2), padding='same')(x)\n",
    "x = Conv2D(8, (3, 3), activation='relu', padding='same')(x)\n",
    "encoded = MaxPooling2D((2, 2), padding='same')(x)\n",
    "\n",
    "\n",
    "\n",
    "x = Conv2D(8, (3, 3), activation='relu', padding='same')(encoded)\n",
    "x = UpSampling2D((2, 2))(x)\n",
    "x = Conv2D(8, (3, 3), activation='relu', padding='same')(x)\n",
    "x = UpSampling2D((2, 2))(x)\n",
    "x = Conv2D(16, (3, 3), activation='relu')(x)\n",
    "x = UpSampling2D((2, 2))(x)\n",
    "decoded = Conv2D(1, (3, 3), activation='sigmoid', padding='same')(x)\n",
    "\n",
    "autoencoder = Model(input_img, decoded)\n",
    "autoencoder.compile(optimizer='adadelta', loss='binary_crossentropy')"
   ]
  },
  {
   "cell_type": "markdown",
   "metadata": {},
   "source": [
    "Reload the dataset."
   ]
  },
  {
   "cell_type": "code",
   "execution_count": 16,
   "metadata": {},
   "outputs": [],
   "source": [
    "(x_train, _), (x_test, _) = mnist.load_data()\n",
    "x_train = x_train.astype('float32') / 255.\n",
    "x_test = x_test.astype('float32') / 255.\n",
    "x_train = np.reshape(x_train, (len(x_train), 28, 28, 1))  # adapt this if using `channels_first` image data format\n",
    "x_test = np.reshape(x_test, (len(x_test), 28, 28, 1))  # adapt this if using `channels_first` image data format"
   ]
  },
  {
   "cell_type": "code",
   "execution_count": 18,
   "metadata": {},
   "outputs": [
    {
     "name": "stdout",
     "output_type": "stream",
     "text": [
      "Train on 60000 samples, validate on 10000 samples\n",
      "Epoch 1/50\n",
      "60000/60000 [==============================] - 3s 47us/step - loss: 0.2481 - val_loss: 0.1850\n",
      "Epoch 2/50\n",
      "60000/60000 [==============================] - 2s 31us/step - loss: 0.1752 - val_loss: 0.1636\n",
      "Epoch 3/50\n",
      "60000/60000 [==============================] - 2s 31us/step - loss: 0.1584 - val_loss: 0.1500\n",
      "Epoch 4/50\n",
      "60000/60000 [==============================] - 2s 32us/step - loss: 0.1484 - val_loss: 0.1397\n",
      "Epoch 5/50\n",
      "60000/60000 [==============================] - 2s 32us/step - loss: 0.1411 - val_loss: 0.1359\n",
      "Epoch 6/50\n",
      "60000/60000 [==============================] - 2s 32us/step - loss: 0.1355 - val_loss: 0.1360\n",
      "Epoch 7/50\n",
      "60000/60000 [==============================] - 2s 32us/step - loss: 0.1314 - val_loss: 0.1279\n",
      "Epoch 8/50\n",
      "60000/60000 [==============================] - 2s 32us/step - loss: 0.1281 - val_loss: 0.1274\n",
      "Epoch 9/50\n",
      "60000/60000 [==============================] - 2s 31us/step - loss: 0.1256 - val_loss: 0.1309\n",
      "Epoch 10/50\n",
      "60000/60000 [==============================] - 2s 31us/step - loss: 0.1236 - val_loss: 0.1211\n",
      "Epoch 11/50\n",
      "60000/60000 [==============================] - 2s 32us/step - loss: 0.1216 - val_loss: 0.1205\n",
      "Epoch 12/50\n",
      "60000/60000 [==============================] - 2s 32us/step - loss: 0.1202 - val_loss: 0.1188\n",
      "Epoch 13/50\n",
      "60000/60000 [==============================] - 2s 33us/step - loss: 0.1189 - val_loss: 0.1193\n",
      "Epoch 14/50\n",
      "60000/60000 [==============================] - 2s 31us/step - loss: 0.1175 - val_loss: 0.1159\n",
      "Epoch 15/50\n",
      "60000/60000 [==============================] - 2s 32us/step - loss: 0.1168 - val_loss: 0.1171\n",
      "Epoch 16/50\n",
      "60000/60000 [==============================] - 2s 32us/step - loss: 0.1158 - val_loss: 0.1161\n",
      "Epoch 17/50\n",
      "60000/60000 [==============================] - 2s 32us/step - loss: 0.1149 - val_loss: 0.1166\n",
      "Epoch 18/50\n",
      "60000/60000 [==============================] - 2s 32us/step - loss: 0.1144 - val_loss: 0.1154\n",
      "Epoch 19/50\n",
      "60000/60000 [==============================] - 2s 32us/step - loss: 0.1139 - val_loss: 0.1123\n",
      "Epoch 20/50\n",
      "60000/60000 [==============================] - 2s 32us/step - loss: 0.1134 - val_loss: 0.1106\n",
      "Epoch 21/50\n",
      "60000/60000 [==============================] - 2s 33us/step - loss: 0.1126 - val_loss: 0.1134\n",
      "Epoch 22/50\n",
      "60000/60000 [==============================] - 2s 33us/step - loss: 0.1123 - val_loss: 0.1107\n",
      "Epoch 23/50\n",
      "60000/60000 [==============================] - 2s 32us/step - loss: 0.1117 - val_loss: 0.1129\n",
      "Epoch 24/50\n",
      "60000/60000 [==============================] - 2s 32us/step - loss: 0.1112 - val_loss: 0.1105\n",
      "Epoch 25/50\n",
      "60000/60000 [==============================] - 2s 32us/step - loss: 0.1107 - val_loss: 0.1116\n",
      "Epoch 26/50\n",
      "60000/60000 [==============================] - 2s 33us/step - loss: 0.1105 - val_loss: 0.1101\n",
      "Epoch 27/50\n",
      "60000/60000 [==============================] - 2s 32us/step - loss: 0.1103 - val_loss: 0.1071\n",
      "Epoch 28/50\n",
      "60000/60000 [==============================] - 2s 32us/step - loss: 0.1098 - val_loss: 0.1087\n",
      "Epoch 29/50\n",
      "60000/60000 [==============================] - 2s 32us/step - loss: 0.1093 - val_loss: 0.1071\n",
      "Epoch 30/50\n",
      "60000/60000 [==============================] - 2s 32us/step - loss: 0.1090 - val_loss: 0.1093\n",
      "Epoch 31/50\n",
      "60000/60000 [==============================] - 2s 32us/step - loss: 0.1087 - val_loss: 0.1081\n",
      "Epoch 32/50\n",
      "60000/60000 [==============================] - 2s 32us/step - loss: 0.1083 - val_loss: 0.1071\n",
      "Epoch 33/50\n",
      "60000/60000 [==============================] - 2s 32us/step - loss: 0.1081 - val_loss: 0.1045\n",
      "Epoch 34/50\n",
      "60000/60000 [==============================] - 2s 32us/step - loss: 0.1075 - val_loss: 0.1065\n",
      "Epoch 35/50\n",
      "60000/60000 [==============================] - 2s 32us/step - loss: 0.1073 - val_loss: 0.1056\n",
      "Epoch 36/50\n",
      "60000/60000 [==============================] - 2s 32us/step - loss: 0.1073 - val_loss: 0.1061\n",
      "Epoch 37/50\n",
      "60000/60000 [==============================] - 2s 33us/step - loss: 0.1071 - val_loss: 0.1051\n",
      "Epoch 38/50\n",
      "60000/60000 [==============================] - 2s 32us/step - loss: 0.1066 - val_loss: 0.1058\n",
      "Epoch 39/50\n",
      "60000/60000 [==============================] - 2s 32us/step - loss: 0.1065 - val_loss: 0.1061\n",
      "Epoch 40/50\n",
      "60000/60000 [==============================] - 2s 32us/step - loss: 0.1064 - val_loss: 0.1063\n",
      "Epoch 41/50\n",
      "60000/60000 [==============================] - 2s 32us/step - loss: 0.1061 - val_loss: 0.1065\n",
      "Epoch 42/50\n",
      "60000/60000 [==============================] - 2s 32us/step - loss: 0.1060 - val_loss: 0.1043\n",
      "Epoch 43/50\n",
      "60000/60000 [==============================] - 2s 32us/step - loss: 0.1057 - val_loss: 0.1056\n",
      "Epoch 44/50\n",
      "60000/60000 [==============================] - 2s 32us/step - loss: 0.1055 - val_loss: 0.1055\n",
      "Epoch 45/50\n",
      "60000/60000 [==============================] - 2s 32us/step - loss: 0.1055 - val_loss: 0.1042\n",
      "Epoch 46/50\n",
      "60000/60000 [==============================] - 2s 32us/step - loss: 0.1051 - val_loss: 0.1015\n",
      "Epoch 47/50\n",
      "60000/60000 [==============================] - 2s 32us/step - loss: 0.1049 - val_loss: 0.1043\n",
      "Epoch 48/50\n",
      "60000/60000 [==============================] - 2s 32us/step - loss: 0.1047 - val_loss: 0.1019\n",
      "Epoch 49/50\n",
      "60000/60000 [==============================] - 2s 32us/step - loss: 0.1045 - val_loss: 0.1019\n",
      "Epoch 50/50\n",
      "60000/60000 [==============================] - 2s 32us/step - loss: 0.1044 - val_loss: 0.1045\n"
     ]
    },
    {
     "data": {
      "text/plain": [
       "<keras.callbacks.History at 0x7fec103610b8>"
      ]
     },
     "execution_count": 18,
     "metadata": {},
     "output_type": "execute_result"
    }
   ],
   "source": [
    "# train the new model\n",
    "autoencoder.fit(x_train, x_train,\n",
    "                epochs=50,\n",
    "                batch_size=256,\n",
    "                shuffle=True,\n",
    "                validation_data=(x_test, x_test))"
   ]
  },
  {
   "cell_type": "code",
   "execution_count": 20,
   "metadata": {},
   "outputs": [
    {
     "data": {
      "image/png": "[encoded data removed]",
      "text/plain": [
       "<Figure size 1296x288 with 18 Axes>"
      ]
     },
     "metadata": {
      "needs_background": "light"
     },
     "output_type": "display_data"
    }
   ],
   "source": [
    "decoded_imgs = autoencoder.predict(x_test)\n",
    "\n",
    "n = 9\n",
    "plt.figure(figsize=(18, 4))\n",
    "\n",
    "for i in range(n):\n",
    "    # the orignal images\n",
    "    ax = plt.subplot(2, n, i+1)\n",
    "    plt.imshow(x_test[i].reshape(28, 28))\n",
    "    plt.gray()\n",
    "    ax.get_xaxis().set_visible(False)\n",
    "    ax.get_yaxis().set_visible(False)\n",
    "    \n",
    "    # the reconstructed images\n",
    "    ax = plt.subplot(2, n, i+1+n)\n",
    "    plt.imshow(decoded_imgs[i].reshape(28, 28))\n",
    "    plt.gray()\n",
    "    ax.get_xaxis().set_visible(False)\n",
    "    ax.get_yaxis().set_visible(False)"
   ]
  },
  {
   "cell_type": "markdown",
   "metadata": {},
   "source": [
    "The result is much better than the one achieved by the previous model. The main reason is that by using the Convnets, we preserved much more information during the encoding process than before.\n",
    "___\n",
    "## Toy example of image denoising\n",
    "Reload the data again."
   ]
  },
  {
   "cell_type": "code",
   "execution_count": 22,
   "metadata": {},
   "outputs": [],
   "source": [
    "(x_train, _), (x_test, _) = mnist.load_data()\n",
    "\n",
    "x_train = x_train.astype('float32') / 255.\n",
    "x_test = x_test.astype('float32') / 255.\n",
    "x_train = np.reshape(x_train, (len(x_train), 28, 28, 1))  # adapt this if using `channels_first` image data format\n",
    "x_test = np.reshape(x_test, (len(x_test), 28, 28, 1))  # adapt this if using `channels_first` image data format\n",
    "\n",
    "# add random Gaussian noise\n",
    "noise_factor = 0.5\n",
    "x_train_noisy = x_train + noise_factor * np.random.normal(loc=0.0, scale=1.0, size=x_train.shape) \n",
    "x_test_noisy = x_test + noise_factor * np.random.normal(loc=0.0, scale=1.0, size=x_test.shape) \n",
    "\n",
    "# pixel value must between 0 and 1 \n",
    "x_train_noisy = np.clip(x_train_noisy, 0., 1.)\n",
    "x_test_noisy = np.clip(x_test_noisy, 0., 1.)"
   ]
  },
  {
   "cell_type": "markdown",
   "metadata": {},
   "source": [
    "Show the noise corrupted images."
   ]
  },
  {
   "cell_type": "code",
   "execution_count": 24,
   "metadata": {},
   "outputs": [
    {
     "data": {
      "image/png": "[encoded data removed]",
      "text/plain": [
       "<Figure size 1296x144 with 9 Axes>"
      ]
     },
     "metadata": {
      "needs_background": "light"
     },
     "output_type": "display_data"
    }
   ],
   "source": [
    "n = 9\n",
    "plt.figure(figsize=(18, 2))\n",
    "\n",
    "for i in range(n):\n",
    "    ax = plt.subplot(1, n, i+1)\n",
    "    plt.imshow(x_test_noisy[i].reshape(28, 28))\n",
    "    plt.gray()\n",
    "    ax.get_xaxis().set_visible(False)\n",
    "    ax.get_yaxis().set_visible(False)"
   ]
  },
  {
   "cell_type": "markdown",
   "metadata": {},
   "source": [
    "Compared to the previous convolutional autoencoder, in order to improve the quality of the reconstructed images, we'll use a slightly different model with more filters per layer [Reference](https://blog.keras.io/building-autoencoders-in-keras.html)."
   ]
  },
  {
   "cell_type": "code",
   "execution_count": 25,
   "metadata": {},
   "outputs": [],
   "source": [
    "input_img = Input(shape=(28, 28, 1))  # adapt this if using `channels_first` image data format\n",
    "\n",
    "x = Conv2D(32, (3, 3), activation='relu', padding='same')(input_img)\n",
    "x = MaxPooling2D((2, 2), padding='same')(x)\n",
    "x = Conv2D(32, (3, 3), activation='relu', padding='same')(x)\n",
    "encoded = MaxPooling2D((2, 2), padding='same')(x)\n",
    "\n",
    "# at this point the representation is (7, 7, 32)\n",
    "\n",
    "x = Conv2D(32, (3, 3), activation='relu', padding='same')(encoded)\n",
    "x = UpSampling2D((2, 2))(x)\n",
    "x = Conv2D(32, (3, 3), activation='relu', padding='same')(x)\n",
    "x = UpSampling2D((2, 2))(x)\n",
    "decoded = Conv2D(1, (3, 3), activation='sigmoid', padding='same')(x)\n",
    "\n",
    "autoencoder = Model(input_img, decoded)\n",
    "autoencoder.compile(optimizer='adadelta', loss='binary_crossentropy')"
   ]
  },
  {
   "cell_type": "code",
   "execution_count": 26,
   "metadata": {},
   "outputs": [
    {
     "name": "stdout",
     "output_type": "stream",
     "text": [
      "Train on 60000 samples, validate on 10000 samples\n",
      "Epoch 1/100\n",
      "60000/60000 [==============================] - 4s 61us/step - loss: 0.1769 - val_loss: 0.1235\n",
      "Epoch 2/100\n",
      "60000/60000 [==============================] - 3s 53us/step - loss: 0.1195 - val_loss: 0.1144\n",
      "Epoch 3/100\n",
      "60000/60000 [==============================] - 3s 54us/step - loss: 0.1118 - val_loss: 0.1077\n",
      "Epoch 4/100\n",
      "60000/60000 [==============================] - 3s 54us/step - loss: 0.1079 - val_loss: 0.1070\n",
      "Epoch 5/100\n",
      "60000/60000 [==============================] - 3s 54us/step - loss: 0.1057 - val_loss: 0.1049\n",
      "Epoch 6/100\n",
      "60000/60000 [==============================] - 3s 53us/step - loss: 0.1042 - val_loss: 0.1024\n",
      "Epoch 7/100\n",
      "60000/60000 [==============================] - 3s 54us/step - loss: 0.1028 - val_loss: 0.1003\n",
      "Epoch 8/100\n",
      "60000/60000 [==============================] - 3s 57us/step - loss: 0.1021 - val_loss: 0.1021\n",
      "Epoch 9/100\n",
      "60000/60000 [==============================] - 3s 56us/step - loss: 0.1012 - val_loss: 0.1003\n",
      "Epoch 10/100\n",
      "60000/60000 [==============================] - 3s 55us/step - loss: 0.1009 - val_loss: 0.0988\n",
      "Epoch 11/100\n",
      "60000/60000 [==============================] - 3s 55us/step - loss: 0.1001 - val_loss: 0.0986\n",
      "Epoch 12/100\n",
      "60000/60000 [==============================] - 3s 55us/step - loss: 0.0999 - val_loss: 0.0989\n",
      "Epoch 13/100\n",
      "60000/60000 [==============================] - 3s 56us/step - loss: 0.0995 - val_loss: 0.0980\n",
      "Epoch 14/100\n",
      "60000/60000 [==============================] - 3s 55us/step - loss: 0.0991 - val_loss: 0.0981\n",
      "Epoch 15/100\n",
      "60000/60000 [==============================] - 3s 57us/step - loss: 0.0989 - val_loss: 0.0980\n",
      "Epoch 16/100\n",
      "60000/60000 [==============================] - 3s 57us/step - loss: 0.0988 - val_loss: 0.0974\n",
      "Epoch 17/100\n",
      "60000/60000 [==============================] - 3s 58us/step - loss: 0.0984 - val_loss: 0.0974\n",
      "Epoch 18/100\n",
      "60000/60000 [==============================] - 3s 56us/step - loss: 0.0983 - val_loss: 0.0969\n",
      "Epoch 19/100\n",
      "60000/60000 [==============================] - 3s 54us/step - loss: 0.0980 - val_loss: 0.0974\n",
      "Epoch 20/100\n",
      "60000/60000 [==============================] - 3s 54us/step - loss: 0.0977 - val_loss: 0.0966\n",
      "Epoch 21/100\n",
      "60000/60000 [==============================] - 3s 54us/step - loss: 0.0976 - val_loss: 0.0966\n",
      "Epoch 22/100\n",
      "60000/60000 [==============================] - 3s 55us/step - loss: 0.0975 - val_loss: 0.0963\n",
      "Epoch 23/100\n",
      "60000/60000 [==============================] - 4s 59us/step - loss: 0.0974 - val_loss: 0.0968\n",
      "Epoch 24/100\n",
      "60000/60000 [==============================] - 3s 57us/step - loss: 0.0972 - val_loss: 0.0960\n",
      "Epoch 25/100\n",
      "60000/60000 [==============================] - 3s 58us/step - loss: 0.0971 - val_loss: 0.0960\n",
      "Epoch 26/100\n",
      "60000/60000 [==============================] - 3s 54us/step - loss: 0.0970 - val_loss: 0.0958\n",
      "Epoch 27/100\n",
      "60000/60000 [==============================] - 3s 54us/step - loss: 0.0969 - val_loss: 0.0967\n",
      "Epoch 28/100\n",
      "60000/60000 [==============================] - 3s 55us/step - loss: 0.0968 - val_loss: 0.0969\n",
      "Epoch 29/100\n",
      "60000/60000 [==============================] - 3s 54us/step - loss: 0.0967 - val_loss: 0.0961\n",
      "Epoch 30/100\n",
      "60000/60000 [==============================] - 3s 54us/step - loss: 0.0965 - val_loss: 0.0962\n",
      "Epoch 31/100\n",
      "60000/60000 [==============================] - 3s 55us/step - loss: 0.0965 - val_loss: 0.0961\n",
      "Epoch 32/100\n",
      "60000/60000 [==============================] - 3s 57us/step - loss: 0.0963 - val_loss: 0.0960\n",
      "Epoch 33/100\n",
      "60000/60000 [==============================] - 3s 53us/step - loss: 0.0962 - val_loss: 0.0956\n",
      "Epoch 34/100\n",
      "60000/60000 [==============================] - 3s 53us/step - loss: 0.0961 - val_loss: 0.0964\n",
      "Epoch 35/100\n",
      "60000/60000 [==============================] - 3s 53us/step - loss: 0.0961 - val_loss: 0.0954\n",
      "Epoch 36/100\n",
      "60000/60000 [==============================] - 3s 53us/step - loss: 0.0960 - val_loss: 0.0960\n",
      "Epoch 37/100\n",
      "60000/60000 [==============================] - 3s 53us/step - loss: 0.0960 - val_loss: 0.0968\n",
      "Epoch 38/100\n",
      "60000/60000 [==============================] - 3s 54us/step - loss: 0.0959 - val_loss: 0.0956\n",
      "Epoch 39/100\n",
      "60000/60000 [==============================] - 3s 53us/step - loss: 0.0959 - val_loss: 0.0953\n",
      "Epoch 40/100\n",
      "60000/60000 [==============================] - 3s 53us/step - loss: 0.0957 - val_loss: 0.0955\n",
      "Epoch 41/100\n",
      "60000/60000 [==============================] - 3s 54us/step - loss: 0.0957 - val_loss: 0.0951\n",
      "Epoch 42/100\n",
      "60000/60000 [==============================] - 3s 53us/step - loss: 0.0955 - val_loss: 0.0947\n",
      "Epoch 43/100\n",
      "60000/60000 [==============================] - 3s 53us/step - loss: 0.0955 - val_loss: 0.0946\n",
      "Epoch 44/100\n",
      "60000/60000 [==============================] - 3s 53us/step - loss: 0.0955 - val_loss: 0.0951\n",
      "Epoch 45/100\n",
      "60000/60000 [==============================] - 3s 53us/step - loss: 0.0954 - val_loss: 0.0946\n",
      "Epoch 46/100\n",
      "60000/60000 [==============================] - 3s 53us/step - loss: 0.0953 - val_loss: 0.0946\n",
      "Epoch 47/100\n",
      "60000/60000 [==============================] - 3s 53us/step - loss: 0.0953 - val_loss: 0.0949\n",
      "Epoch 48/100\n",
      "60000/60000 [==============================] - 3s 53us/step - loss: 0.0953 - val_loss: 0.0945\n",
      "Epoch 49/100\n",
      "60000/60000 [==============================] - 3s 54us/step - loss: 0.0952 - val_loss: 0.0948\n",
      "Epoch 50/100\n",
      "60000/60000 [==============================] - 3s 53us/step - loss: 0.0952 - val_loss: 0.0946\n",
      "Epoch 51/100\n",
      "60000/60000 [==============================] - 3s 53us/step - loss: 0.0951 - val_loss: 0.0944\n",
      "Epoch 52/100\n",
      "60000/60000 [==============================] - 3s 53us/step - loss: 0.0951 - val_loss: 0.0949\n",
      "Epoch 53/100\n",
      "60000/60000 [==============================] - 3s 54us/step - loss: 0.0952 - val_loss: 0.0943\n",
      "Epoch 54/100\n",
      "60000/60000 [==============================] - 3s 57us/step - loss: 0.0950 - val_loss: 0.0943\n",
      "Epoch 55/100\n",
      "60000/60000 [==============================] - 3s 56us/step - loss: 0.0949 - val_loss: 0.0949\n",
      "Epoch 56/100\n",
      "60000/60000 [==============================] - 3s 55us/step - loss: 0.0950 - val_loss: 0.0949\n",
      "Epoch 57/100\n",
      "60000/60000 [==============================] - 3s 54us/step - loss: 0.0949 - val_loss: 0.0946\n",
      "Epoch 58/100\n",
      "60000/60000 [==============================] - 3s 55us/step - loss: 0.0949 - val_loss: 0.0946\n",
      "Epoch 59/100\n",
      "60000/60000 [==============================] - 3s 55us/step - loss: 0.0947 - val_loss: 0.0943\n",
      "Epoch 60/100\n",
      "60000/60000 [==============================] - 3s 56us/step - loss: 0.0948 - val_loss: 0.0947\n",
      "Epoch 61/100\n",
      "60000/60000 [==============================] - 3s 57us/step - loss: 0.0948 - val_loss: 0.0946\n",
      "Epoch 62/100\n",
      "60000/60000 [==============================] - 3s 55us/step - loss: 0.0947 - val_loss: 0.0950\n",
      "Epoch 63/100\n",
      "60000/60000 [==============================] - 3s 54us/step - loss: 0.0947 - val_loss: 0.0946\n",
      "Epoch 64/100\n",
      "60000/60000 [==============================] - 3s 53us/step - loss: 0.0946 - val_loss: 0.0946\n",
      "Epoch 65/100\n",
      "60000/60000 [==============================] - 3s 54us/step - loss: 0.0946 - val_loss: 0.0949\n",
      "Epoch 66/100\n",
      "60000/60000 [==============================] - 3s 54us/step - loss: 0.0946 - val_loss: 0.0946\n",
      "Epoch 67/100\n",
      "60000/60000 [==============================] - 3s 53us/step - loss: 0.0946 - val_loss: 0.0942\n",
      "Epoch 68/100\n",
      "60000/60000 [==============================] - 3s 54us/step - loss: 0.0946 - val_loss: 0.0940\n",
      "Epoch 69/100\n",
      "60000/60000 [==============================] - 3s 55us/step - loss: 0.0945 - val_loss: 0.0941\n",
      "Epoch 70/100\n",
      "60000/60000 [==============================] - 3s 55us/step - loss: 0.0945 - val_loss: 0.0940\n",
      "Epoch 71/100\n",
      "60000/60000 [==============================] - 3s 56us/step - loss: 0.0944 - val_loss: 0.0945\n",
      "Epoch 72/100\n",
      "60000/60000 [==============================] - 3s 55us/step - loss: 0.0944 - val_loss: 0.0944\n",
      "Epoch 73/100\n",
      "60000/60000 [==============================] - 3s 55us/step - loss: 0.0943 - val_loss: 0.0939\n",
      "Epoch 74/100\n",
      "60000/60000 [==============================] - 3s 55us/step - loss: 0.0944 - val_loss: 0.0939\n",
      "Epoch 75/100\n",
      "60000/60000 [==============================] - 3s 56us/step - loss: 0.0943 - val_loss: 0.0941\n",
      "Epoch 76/100\n",
      "60000/60000 [==============================] - 3s 55us/step - loss: 0.0943 - val_loss: 0.0939\n",
      "Epoch 77/100\n"
     ]
    },
    {
     "name": "stdout",
     "output_type": "stream",
     "text": [
      "60000/60000 [==============================] - 3s 54us/step - loss: 0.0943 - val_loss: 0.0941\n",
      "Epoch 78/100\n",
      "60000/60000 [==============================] - 3s 53us/step - loss: 0.0943 - val_loss: 0.0943\n",
      "Epoch 79/100\n",
      "60000/60000 [==============================] - 3s 54us/step - loss: 0.0942 - val_loss: 0.0940\n",
      "Epoch 80/100\n",
      "60000/60000 [==============================] - 3s 54us/step - loss: 0.0942 - val_loss: 0.0937\n",
      "Epoch 81/100\n",
      "60000/60000 [==============================] - 3s 54us/step - loss: 0.0942 - val_loss: 0.0938\n",
      "Epoch 82/100\n",
      "60000/60000 [==============================] - 3s 54us/step - loss: 0.0942 - val_loss: 0.0937\n",
      "Epoch 83/100\n",
      "60000/60000 [==============================] - 3s 54us/step - loss: 0.0942 - val_loss: 0.0938\n",
      "Epoch 84/100\n",
      "60000/60000 [==============================] - 3s 55us/step - loss: 0.0941 - val_loss: 0.0937\n",
      "Epoch 85/100\n",
      "60000/60000 [==============================] - 3s 54us/step - loss: 0.0941 - val_loss: 0.0937\n",
      "Epoch 86/100\n",
      "60000/60000 [==============================] - 3s 54us/step - loss: 0.0941 - val_loss: 0.0938\n",
      "Epoch 87/100\n",
      "60000/60000 [==============================] - 3s 54us/step - loss: 0.0941 - val_loss: 0.0938\n",
      "Epoch 88/100\n",
      "60000/60000 [==============================] - 3s 54us/step - loss: 0.0941 - val_loss: 0.0937\n",
      "Epoch 89/100\n",
      "60000/60000 [==============================] - 3s 54us/step - loss: 0.0941 - val_loss: 0.0938\n",
      "Epoch 90/100\n",
      "60000/60000 [==============================] - 3s 57us/step - loss: 0.0940 - val_loss: 0.0936\n",
      "Epoch 91/100\n",
      "60000/60000 [==============================] - 3s 56us/step - loss: 0.0940 - val_loss: 0.0940\n",
      "Epoch 92/100\n",
      "60000/60000 [==============================] - 3s 55us/step - loss: 0.0940 - val_loss: 0.0936\n",
      "Epoch 93/100\n",
      "60000/60000 [==============================] - 3s 55us/step - loss: 0.0940 - val_loss: 0.0937\n",
      "Epoch 94/100\n",
      "60000/60000 [==============================] - 3s 54us/step - loss: 0.0939 - val_loss: 0.0936\n",
      "Epoch 95/100\n",
      "60000/60000 [==============================] - 3s 54us/step - loss: 0.0940 - val_loss: 0.0936\n",
      "Epoch 96/100\n",
      "60000/60000 [==============================] - 3s 54us/step - loss: 0.0940 - val_loss: 0.0944\n",
      "Epoch 97/100\n",
      "60000/60000 [==============================] - 3s 54us/step - loss: 0.0939 - val_loss: 0.0937\n",
      "Epoch 98/100\n",
      "60000/60000 [==============================] - 3s 54us/step - loss: 0.0939 - val_loss: 0.0939\n",
      "Epoch 99/100\n",
      "60000/60000 [==============================] - 3s 54us/step - loss: 0.0939 - val_loss: 0.0934\n",
      "Epoch 100/100\n",
      "60000/60000 [==============================] - 3s 54us/step - loss: 0.0939 - val_loss: 0.0934\n"
     ]
    },
    {
     "data": {
      "text/plain": [
       "<keras.callbacks.History at 0x7fec103e04e0>"
      ]
     },
     "execution_count": 26,
     "metadata": {},
     "output_type": "execute_result"
    }
   ],
   "source": [
    "autoencoder.fit(x_train_noisy, x_train,\n",
    "                epochs=100,\n",
    "                batch_size=128,\n",
    "                shuffle=True,\n",
    "                validation_data=(x_test_noisy, x_test),\n",
    "                )"
   ]
  },
  {
   "cell_type": "code",
   "execution_count": 28,
   "metadata": {},
   "outputs": [
    {
     "data": {
      "image/png": "[encoded data removed]",
      "text/plain": [
       "<Figure size 1296x288 with 18 Axes>"
      ]
     },
     "metadata": {
      "needs_background": "light"
     },
     "output_type": "display_data"
    }
   ],
   "source": [
    "decoded_imgs = autoencoder.predict(x_test_noisy)\n",
    "\n",
    "n = 9\n",
    "plt.figure(figsize=(18, 4))\n",
    "\n",
    "for i in range(n):\n",
    "    # the orignal images\n",
    "    ax = plt.subplot(2, n, i+1)\n",
    "    plt.imshow(x_test_noisy[i].reshape(28, 28))\n",
    "    plt.gray()\n",
    "    ax.get_xaxis().set_visible(False)\n",
    "    ax.get_yaxis().set_visible(False)\n",
    "    \n",
    "    # the reconstructed images\n",
    "    ax = plt.subplot(2, n, i+1+n)\n",
    "    plt.imshow(decoded_imgs[i].reshape(28, 28))\n",
    "    plt.gray()\n",
    "    ax.get_xaxis().set_visible(False)\n",
    "    ax.get_yaxis().set_visible(False)"
   ]
  },
  {
   "cell_type": "code",
   "execution_count": null,
   "metadata": {},
   "outputs": [],
   "source": []
  }
 ],
 "metadata": {
  "kernelspec": {
   "display_name": "Python 3",
   "language": "python",
   "name": "python3"
  },
  "language_info": {
   "codemirror_mode": {
    "name": "ipython",
    "version": 3
   },
   "file_extension": ".py",
   "mimetype": "text/x-python",
   "name": "python",
   "nbconvert_exporter": "python",
   "pygments_lexer": "ipython3",
   "version": "3.6.7"
  }
 },
 "nbformat": 4,
 "nbformat_minor": 2
}
